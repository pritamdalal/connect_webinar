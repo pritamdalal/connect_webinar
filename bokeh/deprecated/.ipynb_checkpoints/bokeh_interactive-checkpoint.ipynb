{
 "cells": [
  {
   "cell_type": "markdown",
   "metadata": {},
   "source": [
    "# Bokeh Interactive Visualizations"
   ]
  },
  {
   "cell_type": "markdown",
   "metadata": {},
   "source": [
    "Bokeh is a Python library for creating interactive visualizations ranging from simple plots to complex dashboards.  Under the hood, Bokeh utilizes JavaScript, but in order to use Bokeh you don't need to write any JavaScript yourself.\n",
    "\n",
    "In this tutorial we are going to visualize the leverage effect in SPY using Bokeh."
   ]
  },
  {
   "cell_type": "markdown",
   "metadata": {},
   "source": [
    "### Importing Packages"
   ]
  },
  {
   "cell_type": "markdown",
   "metadata": {},
   "source": [
    "Let's begin by importing packages."
   ]
  },
  {
   "cell_type": "code",
   "execution_count": 1,
   "metadata": {
    "tags": []
   },
   "outputs": [],
   "source": [
    "import numpy as np\n",
    "import pandas as pd\n",
    "import pandas_datareader as pdr"
   ]
  },
  {
   "cell_type": "markdown",
   "metadata": {},
   "source": [
    " "
   ]
  },
  {
   "cell_type": "markdown",
   "metadata": {},
   "source": [
    "### Reading-In Stock Data into a `DataFrame`"
   ]
  },
  {
   "cell_type": "markdown",
   "metadata": {},
   "source": [
    "Next, let's read-in some price data from Yahoo Finance.  "
   ]
  },
  {
   "cell_type": "code",
   "execution_count": 2,
   "metadata": {
    "tags": []
   },
   "outputs": [
    {
     "data": {
      "text/html": [
       "<div>\n",
       "<style scoped>\n",
       "    .dataframe tbody tr th:only-of-type {\n",
       "        vertical-align: middle;\n",
       "    }\n",
       "\n",
       "    .dataframe tbody tr th {\n",
       "        vertical-align: top;\n",
       "    }\n",
       "\n",
       "    .dataframe thead th {\n",
       "        text-align: right;\n",
       "    }\n",
       "</style>\n",
       "<table border=\"1\" class=\"dataframe\">\n",
       "  <thead>\n",
       "    <tr style=\"text-align: right;\">\n",
       "      <th></th>\n",
       "      <th>date</th>\n",
       "      <th>close</th>\n",
       "      <th>ret</th>\n",
       "      <th>realized_vol</th>\n",
       "    </tr>\n",
       "  </thead>\n",
       "  <tbody>\n",
       "    <tr>\n",
       "      <th>0</th>\n",
       "      <td>2016-01-04</td>\n",
       "      <td>201.02</td>\n",
       "      <td>NaN</td>\n",
       "      <td>NaN</td>\n",
       "    </tr>\n",
       "    <tr>\n",
       "      <th>1</th>\n",
       "      <td>2016-01-05</td>\n",
       "      <td>201.36</td>\n",
       "      <td>0.001691</td>\n",
       "      <td>NaN</td>\n",
       "    </tr>\n",
       "    <tr>\n",
       "      <th>2</th>\n",
       "      <td>2016-01-06</td>\n",
       "      <td>198.82</td>\n",
       "      <td>-0.012614</td>\n",
       "      <td>NaN</td>\n",
       "    </tr>\n",
       "    <tr>\n",
       "      <th>3</th>\n",
       "      <td>2016-01-07</td>\n",
       "      <td>194.05</td>\n",
       "      <td>-0.023992</td>\n",
       "      <td>NaN</td>\n",
       "    </tr>\n",
       "    <tr>\n",
       "      <th>4</th>\n",
       "      <td>2016-01-08</td>\n",
       "      <td>191.92</td>\n",
       "      <td>-0.010977</td>\n",
       "      <td>NaN</td>\n",
       "    </tr>\n",
       "  </tbody>\n",
       "</table>\n",
       "</div>"
      ],
      "text/plain": [
       "        date   close       ret  realized_vol\n",
       "0 2016-01-04  201.02       NaN           NaN\n",
       "1 2016-01-05  201.36  0.001691           NaN\n",
       "2 2016-01-06  198.82 -0.012614           NaN\n",
       "3 2016-01-07  194.05 -0.023992           NaN\n",
       "4 2016-01-08  191.92 -0.010977           NaN"
      ]
     },
     "execution_count": 2,
     "metadata": {},
     "output_type": "execute_result"
    }
   ],
   "source": [
    "# reading in data\n",
    "df_spy = pdr.get_data_yahoo('SPY', start='2016-01-01', end='2021-07-31')\n",
    "\n",
    "# cleaning the DataFrame\n",
    "df_spy = df_spy.round(2)\n",
    "df_spy.reset_index(inplace=True)\n",
    "df_spy.columns = df_spy.columns.str.lower().str.replace(' ','_')\n",
    "lst_cols = ['high', 'low', 'open', 'adj_close', 'volume',]\n",
    "df_spy.drop(columns=lst_cols, inplace=True)\n",
    "\n",
    "# adding returns and realized volatility\n",
    "df_spy['ret'] = df_spy['close'] / df_spy['close'].shift(1) - 1\n",
    "df_spy['realized_vol'] = df_spy['ret'].rolling(42).std() * np.sqrt(252)\n",
    "\n",
    "df_spy.head()"
   ]
  },
  {
   "cell_type": "markdown",
   "metadata": {},
   "source": [
    "### Single Plot - `close` Prices"
   ]
  },
  {
   "cell_type": "markdown",
   "metadata": {},
   "source": [
    "Generating a single plot of `close` prices can be done with a small amount of code.  Notice that the default behavior is to include an interactive toolbar on the right of the graph that allows for actions like panning and zooming."
   ]
  },
  {
   "cell_type": "code",
   "execution_count": null,
   "metadata": {},
   "outputs": [],
   "source": [
    "from bokeh.io import output_notebook, show\n",
    "from bokeh.plotting import figure\n",
    "output_notebook()\n",
    "\n",
    "p = figure(width=600, height=250, x_axis_type='datetime')\n",
    "p.line(x=df_spy['date'], y=df_spy['close'])\n",
    "show(p)"
   ]
  },
  {
   "cell_type": "markdown",
   "metadata": {},
   "source": [
    "**Experiment Challenge:** Experiement with the interactive tools in the plot."
   ]
  },
  {
   "cell_type": "markdown",
   "metadata": {},
   "source": [
    " "
   ]
  },
  {
   "cell_type": "markdown",
   "metadata": {},
   "source": [
    "### Multiple Plots"
   ]
  },
  {
   "cell_type": "markdown",
   "metadata": {},
   "source": [
    "We can graph all three series - `close`, `ret`, `realized_vol` - in a single plot by utilizing the `column()` function."
   ]
  },
  {
   "cell_type": "code",
   "execution_count": null,
   "metadata": {},
   "outputs": [],
   "source": [
    "from bokeh.io import output_notebook, show\n",
    "from bokeh.plotting import figure\n",
    "from bokeh.layouts import column\n",
    "output_notebook()\n",
    "\n",
    "# defining multiple plots\n",
    "p1 = figure(width=600, height=250, x_axis_type='datetime')\n",
    "p1.line(x=df_spy['date'], y=df_spy['close'])\n",
    "\n",
    "p2 = figure(width=600, height=250, x_axis_type='datetime')\n",
    "p2.line(x=df_spy['date'], y=df_spy['ret'])\n",
    "\n",
    "p3 = figure(width=600, height=250, x_axis_type='datetime')\n",
    "p3.line(x=df_spy['date'], y=df_spy['realized_vol'])\n",
    "\n",
    "# putting them together using column()\n",
    "show(column(p1, p2, p3))"
   ]
  },
  {
   "cell_type": "markdown",
   "metadata": {},
   "source": [
    "**Experiment Challenge:** What do you notice when you perform an interactive action on one of the plots?"
   ]
  },
  {
   "cell_type": "markdown",
   "metadata": {},
   "source": [
    "### Linked Zooming"
   ]
  },
  {
   "cell_type": "markdown",
   "metadata": {},
   "source": [
    "As you could see from the previous graphs, the three graphs are not linked in that panning and zooming in one plot has no effect on the others.  In this next graph, we link the zooming of all three plots.  This is done using the `grid()` function."
   ]
  },
  {
   "cell_type": "code",
   "execution_count": null,
   "metadata": {},
   "outputs": [],
   "source": [
    "from bokeh.io import output_notebook, show\n",
    "from bokeh.plotting import figure\n",
    "from bokeh.layouts import gridplot\n",
    "output_notebook()\n",
    "\n",
    "# defining plot options all at once\n",
    "plot_options = dict(width=600, height=250, x_axis_type='datetime', tools='wheel_zoom, reset, box_zoom')\n",
    "\n",
    "# defining multiple plots - notice the change in the x_range for p2 and p3\n",
    "p1 = figure(**plot_options)\n",
    "p1.line(x=df_spy['date'], y=df_spy['close'])\n",
    "\n",
    "p2 = figure(x_range=p1.x_range,  **plot_options)\n",
    "p2.line(x=df_spy['date'], y=df_spy['ret'])\n",
    "\n",
    "p3 = figure(x_range=p1.x_range, **plot_options)\n",
    "p3.line(x=df_spy['date'], y=df_spy['realized_vol'])\n",
    "\n",
    "# putting all plots into a grid plot\n",
    "p = gridplot([[p1], \n",
    "              [p2], \n",
    "              [p3]]\n",
    "            )\n",
    "\n",
    "show(p)"
   ]
  },
  {
   "cell_type": "markdown",
   "metadata": {
    "tags": []
   },
   "source": [
    "### Linked Brushing"
   ]
  },
  {
   "cell_type": "markdown",
   "metadata": {},
   "source": [
    "Brushing is an interesting way of highlighting sections of a graph.  Unfortunately, it doesn't work on line graphs, so let's use circle glyphs instead.  Here is a plot with linked brushing."
   ]
  },
  {
   "cell_type": "code",
   "execution_count": null,
   "metadata": {
    "tags": []
   },
   "outputs": [],
   "source": [
    "from bokeh.io import output_notebook, show\n",
    "from bokeh.plotting import figure\n",
    "from bokeh.layouts import gridplot\n",
    "from bokeh.models import ColumnDataSource\n",
    "output_notebook()\n",
    "\n",
    "# defining plot options all at once\n",
    "plot_options = dict(width=600, height=250, x_axis_type='datetime', tools='wheel_zoom,reset,box_zoom,box_select')\n",
    "\n",
    "# placing df_spy into a ColumnDataSource object\n",
    "cds_spy = ColumnDataSource(df_spy)\n",
    "\n",
    "# defining multiple plots\n",
    "p1 = figure(**plot_options)\n",
    "p1.circle(x='date', y='close', source=cds_spy)\n",
    "\n",
    "p2 = figure(x_range=p1.x_range, **plot_options)\n",
    "p2.circle(x='date', y='ret', source=cds_spy)\n",
    "\n",
    "p3 = figure(x_range=p1.x_range, **plot_options)\n",
    "p3.circle(x='date', y='realized_vol', source=cds_spy)\n",
    "\n",
    "# putting all plots into a grid plot\n",
    "p = gridplot([[p1], \n",
    "              [p2], \n",
    "              [p3]]\n",
    "            )\n",
    "\n",
    "show(p)"
   ]
  },
  {
   "cell_type": "markdown",
   "metadata": {},
   "source": [
    "**Code Challenge:** Modify the code above to use square glyphs instead of circles."
   ]
  },
  {
   "cell_type": "code",
   "execution_count": null,
   "metadata": {},
   "outputs": [],
   "source": [
    "\n",
    "\n",
    "\n",
    "\n"
   ]
  },
  {
   "cell_type": "markdown",
   "metadata": {},
   "source": [
    " "
   ]
  },
  {
   "cell_type": "markdown",
   "metadata": {},
   "source": [
    "### Hover Tools"
   ]
  },
  {
   "cell_type": "markdown",
   "metadata": {},
   "source": [
    "Hover tools are a way to make your plots more immediately readable."
   ]
  },
  {
   "cell_type": "code",
   "execution_count": null,
   "metadata": {
    "tags": []
   },
   "outputs": [],
   "source": [
    "from bokeh.io import output_notebook, show\n",
    "from bokeh.plotting import figure\n",
    "from bokeh.layouts import gridplot\n",
    "from bokeh.models import ColumnDataSource\n",
    "from bokeh.models import HoverTool\n",
    "output_notebook()\n",
    "\n",
    "# placing df_spy into a ColumnDataSource object\n",
    "cds_spy = ColumnDataSource(df_spy)\n",
    "\n",
    "# defining the lover tool\n",
    "hover = HoverTool(\n",
    "        tooltips=[\n",
    "            ('date', '@date{%F}'),\n",
    "            ('adj_close', '$@{close}{0.2f}'),\n",
    "        ],\n",
    "        formatters={'@date':'datetime',\n",
    "                   '@close':'printf'\n",
    "                   },\n",
    "    )\n",
    "\n",
    "# defining plot options all at once\n",
    "plot_options = dict(width=600, height=250, x_axis_type='datetime', \n",
    "                    tools=[hover, 'wheel_zoom,reset,box_zoom'])\n",
    "\n",
    "# defining multiple plots\n",
    "p1 = figure(**plot_options)\n",
    "p1.line(x='date', y='close', source=cds_spy)\n",
    "\n",
    "p2 = figure(x_range=p1.x_range, **plot_options)\n",
    "p2.line(x='date', y='ret', source=cds_spy)\n",
    "\n",
    "p3 = figure(x_range=p1.x_range, **plot_options)\n",
    "p3.line(x='date', y='realized_vol', source=cds_spy)\n",
    "\n",
    "# putting all plots into a grid plot\n",
    "p = gridplot([[p1], \n",
    "              [p2], \n",
    "              [p3]]\n",
    "            )\n",
    "\n",
    "show(p)"
   ]
  },
  {
   "cell_type": "markdown",
   "metadata": {},
   "source": [
    "**Code Challenge:** During the pandemic, what was the lowest price of SPY and on what date?"
   ]
  },
  {
   "cell_type": "code",
   "execution_count": null,
   "metadata": {},
   "outputs": [],
   "source": [
    "\n",
    "\n",
    "\n",
    "\n"
   ]
  }
 ],
 "metadata": {
  "kernelspec": {
   "display_name": "Python 3.9.6",
   "language": "python",
   "name": "py3.9.6"
  },
  "language_info": {
   "codemirror_mode": {
    "name": "ipython",
    "version": 3
   },
   "file_extension": ".py",
   "mimetype": "text/x-python",
   "name": "python",
   "nbconvert_exporter": "python",
   "pygments_lexer": "ipython3",
   "version": "3.9.6"
  }
 },
 "nbformat": 4,
 "nbformat_minor": 4
}
