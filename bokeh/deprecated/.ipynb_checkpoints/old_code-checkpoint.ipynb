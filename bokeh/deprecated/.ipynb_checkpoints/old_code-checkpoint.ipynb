{
 "cells": [
  {
   "cell_type": "markdown",
   "id": "16121ee1-c880-4c9d-b35a-e16f270e3694",
   "metadata": {
    "jp-MarkdownHeadingCollapsed": true,
    "tags": []
   },
   "source": [
    "### Modify Aspects of the Graph with Inputs to `figure()`"
   ]
  },
  {
   "cell_type": "markdown",
   "id": "4384161a-82e9-4c3e-959e-1bde1086a875",
   "metadata": {},
   "source": [
    "# OLD CODE"
   ]
  },
  {
   "cell_type": "markdown",
   "id": "2680cf0c-9376-4573-9e4d-58b2b862fe4c",
   "metadata": {},
   "source": [
    "### Blank File"
   ]
  },
  {
   "cell_type": "markdown",
   "id": "e42eaadd-9b20-4d46-8dc8-dc115efb1cd7",
   "metadata": {},
   "source": [
    "First let's simply create a blank graph and output it to a HTML file."
   ]
  },
  {
   "cell_type": "code",
   "execution_count": 11,
   "id": "7d1d915f-360d-4d12-9fa6-2f37a6372801",
   "metadata": {},
   "outputs": [],
   "source": [
    "# # Bokeh Libraries\n",
    "# from bokeh.io import output_file\n",
    "# from bokeh.plotting import figure, show\n",
    "\n",
    "# # The figure will be rendered in a static HTML file called output_file_test.html\n",
    "# output_file('output_file_test.html', \n",
    "#             title='Empty Bokeh Figure')\n",
    "\n",
    "# # Set up a generic figure() object\n",
    "# fig = figure()\n",
    "\n",
    "# # See what it looks like\n",
    "# show(fig)"
   ]
  },
  {
   "cell_type": "code",
   "execution_count": 12,
   "id": "c30e40fd-f318-4238-b599-4402beb02f73",
   "metadata": {},
   "outputs": [],
   "source": [
    "#bokeh.palettes.Viridis256[0:len(df_asset_allocation.drop(columns='trade_date').columns.to_list())]"
   ]
  },
  {
   "cell_type": "code",
   "execution_count": 13,
   "id": "2994bce9-18a6-428c-9d98-1bd86146f89a",
   "metadata": {},
   "outputs": [],
   "source": [
    "#bokeh.palettes.magma(len(df_asset_allocation.drop(columns='trade_date').columns.to_list()))"
   ]
  },
  {
   "cell_type": "code",
   "execution_count": 14,
   "id": "bee097b7-e5ba-42a9-818d-f60f09633690",
   "metadata": {},
   "outputs": [],
   "source": [
    "# # reading in data\n",
    "# df_spy = pdr.get_data_yahoo('SPY', start='2015-12-31', end='2021-09-30')\n",
    "\n",
    "# # cleaning the DataFrame\n",
    "# df_spy = df_spy.round(2)\n",
    "# df_spy.reset_index(inplace=True)\n",
    "# df_spy.columns = df_spy.columns.str.lower().str.replace(' ','_')\n",
    "# lst_cols = ['high', 'low', 'open', 'adj_close', 'volume',]\n",
    "# df_spy.drop(columns=lst_cols, inplace=True)\n",
    "\n",
    "# # adding returns and realized volatility\n",
    "# #df_spy['ret'] = df_spy['close'] / df_spy['close'].shift(1) - 1\n",
    "# df_spy['ret'] = np.log(df_spy['close'] / df_spy['close'].shift(1))\n",
    "# df_spy['realized_vol'] = df_spy['ret'].rolling(42).std() * np.sqrt(252)\n",
    "\n",
    "# df_spy = df_spy[1:len(df_spy)]\n",
    "# df_spy.head()"
   ]
  },
  {
   "cell_type": "code",
   "execution_count": 15,
   "id": "3f176984-dc0e-4344-b833-84ce4d36e5b0",
   "metadata": {},
   "outputs": [],
   "source": [
    "# monthly return bar chart\n",
    "\n",
    "# df_spy['year'] = df_spy['date'].dt.year\n",
    "# df_spy['month'] = df_spy['date'].dt.month\n",
    "# df_monthly = df_spy.groupby(['year', 'month'], as_index=False)[['ret']].sum()\n",
    "# df_monthly['year_month'] = (df_monthly['year'] * 100) + df_monthly['month']\n",
    "# df_monthly['year_month'] = df_monthly['year_month'].astype(str)\n",
    "# df_monthly.head()"
   ]
  },
  {
   "cell_type": "code",
   "execution_count": 16,
   "id": "61859bdf-eee9-4356-b4ec-f548b97500c1",
   "metadata": {},
   "outputs": [],
   "source": [
    "# implied leverage effect scatter\n",
    "# import pandas as pd\n",
    "\n",
    "# df_iv = pd.read_csv('spy_2014_2018_regression.csv')\n",
    "# df_iv['iv_change'] = (df_iv['start_iv'].diff()).shift(-1)\n",
    "# df_iv.head()"
   ]
  },
  {
   "cell_type": "code",
   "execution_count": 17,
   "id": "24d026de-f957-4394-bf37-bd225d04de02",
   "metadata": {},
   "outputs": [],
   "source": [
    "# asset allocation stacked area\n",
    "\n",
    "# df_asset_allocation = pd.read_csv('asset_allocation.csv', parse_dates=['trade_date'])\n",
    "# df_asset_allocation.head()"
   ]
  },
  {
   "cell_type": "markdown",
   "id": "4b6a9d19-ca20-446f-883c-350cd10c9aca",
   "metadata": {
    "tags": []
   },
   "source": [
    "# OLD CODE"
   ]
  },
  {
   "cell_type": "markdown",
   "id": "a351a615-dab9-4d28-96db-ff129f80a8b3",
   "metadata": {},
   "source": [
    "### Blank File"
   ]
  },
  {
   "cell_type": "markdown",
   "id": "108fd0e9-3a50-441b-b6cf-b66b9ca635a3",
   "metadata": {},
   "source": [
    "First let's simply create a blank graph and output it to a HTML file."
   ]
  },
  {
   "cell_type": "code",
   "execution_count": 8,
   "id": "ae0fdd68-1603-4ad3-894e-b5627f3d02c2",
   "metadata": {},
   "outputs": [],
   "source": [
    "# # Bokeh Libraries\n",
    "# from bokeh.io import output_file\n",
    "# from bokeh.plotting import figure, show\n",
    "\n",
    "# # The figure will be rendered in a static HTML file called output_file_test.html\n",
    "# output_file('output_file_test.html', \n",
    "#             title='Empty Bokeh Figure')\n",
    "\n",
    "# # Set up a generic figure() object\n",
    "# fig = figure()\n",
    "\n",
    "# # See what it looks like\n",
    "# show(fig)"
   ]
  },
  {
   "cell_type": "code",
   "execution_count": 9,
   "id": "0ea67202-b450-47d0-90b2-97c6eca616eb",
   "metadata": {},
   "outputs": [],
   "source": [
    "#bokeh.palettes.Viridis256[0:len(df_asset_allocation.drop(columns='trade_date').columns.to_list())]"
   ]
  },
  {
   "cell_type": "code",
   "execution_count": 10,
   "id": "b8c0e14d-3328-4bf4-9af2-18e2d918bee8",
   "metadata": {},
   "outputs": [],
   "source": [
    "#bokeh.palettes.magma(len(df_asset_allocation.drop(columns='trade_date').columns.to_list()))"
   ]
  },
  {
   "cell_type": "markdown",
   "id": "b810b66b-c34f-4734-b4ea-53bc89618150",
   "metadata": {
    "tags": []
   },
   "source": [
    "### Glyphs Gallery"
   ]
  },
  {
   "cell_type": "code",
   "execution_count": 11,
   "id": "45c133f8-940c-481e-9f1d-874f7c8cebcf",
   "metadata": {
    "tags": []
   },
   "outputs": [],
   "source": [
    "# from numpy.random import random\n",
    "# from bokeh.io import output_notebook\n",
    "# from bokeh.core.enums import MarkerType\n",
    "# from bokeh.plotting import figure, show\n",
    "\n",
    "\n",
    "# output_notebook()\n",
    "\n",
    "# p = figure(title=\"Bokeh Markers\", toolbar_location=None)\n",
    "# p.grid.grid_line_color = None\n",
    "# p.background_fill_color = \"#eeeeee\"\n",
    "# p.axis.visible = False\n",
    "# p.y_range.flipped = True\n",
    "\n",
    "# N = 10\n",
    "\n",
    "# for i, marker in enumerate(MarkerType):\n",
    "#     x = i % 4\n",
    "#     y = (i // 4) * 4 + 1\n",
    "\n",
    "#     p.scatter(random(N)+2*x, random(N)+y, marker=marker, size=14,\n",
    "#               line_color=\"navy\", fill_color=\"orange\", alpha=0.5)\n",
    "\n",
    "#     p.text(2*x+0.5, y+2.5, text=[marker],\n",
    "#            text_color=\"firebrick\", text_align=\"center\", text_font_size=\"13px\")\n",
    "\n",
    "# show(p)"
   ]
  },
  {
   "cell_type": "markdown",
   "id": "b64049cc-0d38-48ff-9ca6-702d6b6332c1",
   "metadata": {},
   "source": [
    "### Other Glyphs"
   ]
  },
  {
   "cell_type": "markdown",
   "id": "83297dc4-c270-4ece-9aef-22b59c07559e",
   "metadata": {},
   "source": [
    "We can recreate this scatter plot with a larger hexes instead of circles.  We also modified the outline color and fill color, both of which were affected by function inputs to `p.hex()`."
   ]
  },
  {
   "cell_type": "code",
   "execution_count": 12,
   "id": "785979c0-7b74-4ed7-bb55-08b54ac70f3f",
   "metadata": {},
   "outputs": [],
   "source": [
    "# from bokeh.io import output_notebook, show\n",
    "# from bokeh.plotting import figure\n",
    "# from bokeh.models import ColumnDataSource\n",
    "\n",
    "# output_notebook()v\n",
    "\n",
    "# cds = ColumnDataSource(df_iv)\n",
    "\n",
    "# p = figure(plot_width=600, plot_height=400)\n",
    "# p.hex('ret', 'iv_change', line_color=\"navy\", fill_color=\"orange\", size=15, source=cds)\n",
    "# show(p)"
   ]
  },
  {
   "cell_type": "markdown",
   "id": "6e39f959-9edc-4738-b0d4-879b8e5470d2",
   "metadata": {
    "tags": []
   },
   "source": [
    "### Reading-In Data"
   ]
  },
  {
   "cell_type": "code",
   "execution_count": 13,
   "id": "9081b65d-657e-438b-8a83-52d132259660",
   "metadata": {},
   "outputs": [],
   "source": [
    "# # for scatter\n",
    "# import pandas as pd\n",
    "# df_iv = pd.read_csv('spy_2014_2018_regression.csv')\n",
    "# df_iv['iv_change'] = (df_iv['start_iv'].diff()).shift(-1)\n",
    "# #df_iv['rv_change'] = (df_iv['realized_vol'].diff()).shift(-1)\n",
    "# df_iv"
   ]
  },
  {
   "cell_type": "code",
   "execution_count": 14,
   "id": "320a9ea9-7d53-438f-945f-a1c9dfd72031",
   "metadata": {},
   "outputs": [],
   "source": [
    "# import pandas_datareader as pdr\n",
    "# import numpy as np\n",
    "\n",
    "# # reading in data\n",
    "# df_spy = pdr.get_data_yahoo('SPY', start='2015-12-31', end='2021-09-30')\n",
    "\n",
    "# # cleaning the DataFrame\n",
    "# df_spy = df_spy.round(2)\n",
    "# df_spy.reset_index(inplace=True)\n",
    "# df_spy.columns = df_spy.columns.str.lower().str.replace(' ','_')\n",
    "# lst_cols = ['high', 'low', 'open', 'adj_close', 'volume',]\n",
    "# df_spy.drop(columns=lst_cols, inplace=True)\n",
    "\n",
    "# # adding returns and realized volatility\n",
    "# #df_spy['ret'] = df_spy['close'] / df_spy['close'].shift(1) - 1\n",
    "# df_spy['ret'] = np.log(df_spy['close'] / df_spy['close'].shift(1))\n",
    "# df_spy['realized_vol'] = df_spy['ret'].rolling(42).std() * np.sqrt(252)\n",
    "\n",
    "# df_spy = df_spy[1:len(df_spy)]\n",
    "# df_spy.head()"
   ]
  },
  {
   "cell_type": "code",
   "execution_count": 15,
   "id": "3b45f19b-1cb5-48b7-a374-1ab52b9772c0",
   "metadata": {},
   "outputs": [],
   "source": [
    "# # monthly return data\n",
    "\n",
    "# df_spy['year'] = df_spy['date'].dt.year\n",
    "# df_spy['month'] = df_spy['date'].dt.month\n",
    "\n",
    "# df_monthly = df_spy.groupby(['year', 'month'], as_index=False)[['ret']].sum()\n",
    "# df_monthly['year_month'] = (df_monthly['year'] * 100) + df_monthly['month']\n",
    "# df_monthly['year_month'] = df_monthly['year_month'].astype(str)\n",
    "# #df_monthly.info()\n",
    "# df_monthly"
   ]
  },
  {
   "cell_type": "markdown",
   "id": "619d6bb3-39f4-4c9c-a6e8-0ceea35cb811",
   "metadata": {},
   "source": [
    "### Basic Line Plot"
   ]
  },
  {
   "cell_type": "code",
   "execution_count": 16,
   "id": "0ae6262b-956a-4283-8958-1a0609f0f9b7",
   "metadata": {},
   "outputs": [],
   "source": [
    "# from bokeh.io import output_notebook, show\n",
    "# from bokeh.plotting import figure\n",
    "# output_notebook()\n",
    "\n",
    "# p = figure(width=600, height=250, x_axis_type='datetime', title='SPY Close Price')\n",
    "# p.line(x=df_spy['date'], y=df_spy['close'])\n",
    "# show(p)"
   ]
  },
  {
   "cell_type": "markdown",
   "id": "a2590619-f4d2-4267-ada6-ede767439e50",
   "metadata": {},
   "source": [
    "### `ColumnDataSource`"
   ]
  },
  {
   "cell_type": "markdown",
   "id": "662ca5ac-c566-4afa-9b79-1252bf823b99",
   "metadata": {},
   "source": [
    "### Passing Data\n",
    "\n",
    "1. Lists\n",
    "2. Numpy \n",
    "3. ColumnDataSource"
   ]
  },
  {
   "cell_type": "code",
   "execution_count": 17,
   "id": "5b4cf0ab-7d10-410d-88e7-fbf79b00169c",
   "metadata": {},
   "outputs": [],
   "source": [
    "# from bokeh.io import output_notebook, show\n",
    "# from bokeh.plotting import figure\n",
    "# from bokeh.models import ColumnDataSource\n",
    "# output_notebook()\n",
    "\n",
    "# cds = ColumnDataSource(df_spy)\n",
    "# p = figure(width=600, height=250, x_axis_type='datetime', title='SPY Close Price')\n",
    "# #p.line(x=df_spy['date'], y=df_spy['close'])\n",
    "\n",
    "# p.line(x='date', y='close',source=cds)\n",
    "# show(p)"
   ]
  },
  {
   "cell_type": "markdown",
   "id": "480d4fc1-242a-4307-a65a-8f7647254859",
   "metadata": {},
   "source": [
    "### Basic Scatter"
   ]
  },
  {
   "cell_type": "code",
   "execution_count": 18,
   "id": "5fca2c2f-4443-4126-b6e8-eeb98e201c04",
   "metadata": {},
   "outputs": [],
   "source": [
    "# from bokeh.io import output_notebook, show\n",
    "# from bokeh.plotting import figure\n",
    "# from bokeh.models import ColumnDataSource\n",
    "\n",
    "# output_notebook()\n",
    "\n",
    "# cds = ColumnDataSource(df_iv)\n",
    "\n",
    "# p = figure(plot_width=400, plot_height=400)\n",
    "# p.circle('ret', 'iv_change', source=cds)\n",
    "# show(p)"
   ]
  },
  {
   "cell_type": "markdown",
   "id": "73761c82-3ff1-4315-ac2d-48c110a8d2ab",
   "metadata": {
    "tags": []
   },
   "source": [
    "### Linked Panning with `gridplot()`"
   ]
  },
  {
   "cell_type": "code",
   "execution_count": 19,
   "id": "685ebe0e-167b-450a-9e8b-a3190f7a2673",
   "metadata": {},
   "outputs": [],
   "source": [
    "# from bokeh.io import output_notebook, show\n",
    "# from bokeh.plotting import figure\n",
    "# from bokeh.layouts import gridplot\n",
    "# output_notebook()\n",
    "\n",
    "# # defining plot options all at once\n",
    "# plot_options = dict(width=600, height=250, x_axis_type='datetime', tools='reset, pan, wheel_zoom, box_zoom')\n",
    "\n",
    "# # defining multiple plots - notice the change in the x_range for p2 and p3\n",
    "# p1 = figure(**plot_options)\n",
    "# p1.line(x=df_spy['date'], y=df_spy['close'])\n",
    "\n",
    "# p2 = figure(x_range=p1.x_range,  **plot_options)\n",
    "# p2.line(x=df_spy['date'], y=df_spy['ret'])\n",
    "\n",
    "# p3 = figure(x_range=p1.x_range, **plot_options)\n",
    "# p3.line(x=df_spy['date'], y=df_spy['realized_vol'])\n",
    "\n",
    "# # putting all plots into a grid plot\n",
    "# p = gridplot([[p1], \n",
    "#               [p2], \n",
    "#               [p3]]\n",
    "#             )\n",
    "\n",
    "# show(p)"
   ]
  },
  {
   "cell_type": "code",
   "execution_count": 20,
   "id": "cae20ff4-de18-4e55-8010-ff89ab36ced5",
   "metadata": {
    "tags": []
   },
   "outputs": [],
   "source": [
    "# # realized leverage effect line graphs\n",
    "\n",
    "# import pandas_datareader as pdr\n",
    "# import pandas as pd\n",
    "# import numpy as np\n",
    "\n",
    "# # reading in data\n",
    "# df_spy = pdr.get_data_yahoo('SPY', start='2015-12-31', end='2021-09-30')\n",
    "\n",
    "# # cleaning the DataFrame\n",
    "# df_spy = df_spy.round(2)\n",
    "# df_spy.reset_index(inplace=True)\n",
    "# df_spy.columns = df_spy.columns.str.lower().str.replace(' ','_')\n",
    "# lst_cols = ['high', 'low', 'open', 'adj_close', 'volume',]\n",
    "# df_spy.drop(columns=lst_cols, inplace=True)\n",
    "\n",
    "# # adding returns and realized volatility\n",
    "# #df_spy['ret'] = df_spy['close'] / df_spy['close'].shift(1) - 1\n",
    "# df_spy['ret'] = np.log(df_spy['close'] / df_spy['close'].shift(1))\n",
    "# df_spy['realized_vol'] = df_spy['ret'].rolling(42).std() * np.sqrt(252)\n",
    "\n",
    "# df_spy = df_spy[1:len(df_spy)]\n",
    "# df_spy.head()"
   ]
  },
  {
   "cell_type": "code",
   "execution_count": 21,
   "id": "4450a744-8817-4003-8ab3-3f2af7adbc70",
   "metadata": {},
   "outputs": [],
   "source": [
    "# # monthly return bar chart\n",
    "\n",
    "# df_spy['year'] = df_spy['date'].dt.year\n",
    "# df_spy['month'] = df_spy['date'].dt.month\n",
    "# df_monthly = df_spy.groupby(['year', 'month'], as_index=False)[['ret']].sum()\n",
    "# df_monthly['year_month'] = (df_monthly['year'] * 100) + df_monthly['month']\n",
    "# df_monthly['year_month'] = df_monthly['year_month'].astype(str)\n",
    "# df_monthly.head()"
   ]
  },
  {
   "cell_type": "code",
   "execution_count": 22,
   "id": "463e4c85-61da-474d-a42c-ff49c02e6c5f",
   "metadata": {},
   "outputs": [],
   "source": [
    "# # implied leverage effect scatter\n",
    "# import pandas as pd\n",
    "\n",
    "# df_iv = pd.read_csv('spy_2014_2018_regression.csv')\n",
    "# df_iv['iv_change'] = (df_iv['start_iv'].diff()).shift(-1)\n",
    "# df_iv.head()"
   ]
  },
  {
   "cell_type": "code",
   "execution_count": 23,
   "id": "a16c76ad-dec2-4c2f-bb0c-8529eecc2e49",
   "metadata": {},
   "outputs": [],
   "source": [
    "# # asset allocation stacked area\n",
    "\n",
    "# df_asset_allocation = pd.read_csv('asset_allocation.csv', parse_dates=['trade_date'])\n",
    "# df_asset_allocation.head()"
   ]
  }
 ],
 "metadata": {
  "kernelspec": {
   "display_name": "Python 3.9.6",
   "language": "python",
   "name": "py3.9.6"
  },
  "language_info": {
   "codemirror_mode": {
    "name": "ipython",
    "version": 3
   },
   "file_extension": ".py",
   "mimetype": "text/x-python",
   "name": "python",
   "nbconvert_exporter": "python",
   "pygments_lexer": "ipython3",
   "version": "3.9.6"
  }
 },
 "nbformat": 4,
 "nbformat_minor": 5
}
