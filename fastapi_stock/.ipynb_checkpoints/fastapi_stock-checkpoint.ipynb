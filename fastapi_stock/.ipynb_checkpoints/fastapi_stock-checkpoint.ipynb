{
 "cells": [
  {
   "cell_type": "markdown",
   "id": "e2b5df07-496f-4634-b3a6-84915462db53",
   "metadata": {},
   "source": [
    "# Connecting to a FastAPI on Connect"
   ]
  },
  {
   "cell_type": "markdown",
   "id": "024c6ebe-ad93-4dc8-aa32-a6ebada3b51b",
   "metadata": {},
   "source": [
    "### Importing Packages"
   ]
  },
  {
   "cell_type": "code",
   "execution_count": 1,
   "id": "ceb52db7-1161-4e00-afb7-813eb805b48b",
   "metadata": {},
   "outputs": [],
   "source": [
    "import requests\n",
    "import pandas as pd"
   ]
  },
  {
   "cell_type": "markdown",
   "id": "d6ae4dcc-779a-4180-b8aa-9700b759de03",
   "metadata": {},
   "source": [
    "### Defining Function with API Endpoint"
   ]
  },
  {
   "cell_type": "code",
   "execution_count": 2,
   "id": "744a9e0c-41a0-4252-a0f7-ba6049069c81",
   "metadata": {},
   "outputs": [],
   "source": [
    "def get_history(ticker):\n",
    "    URL = 'https://colorado.rstudio.com/rsc/fastapi-stock-pritam/stocks/' + ticker + '/history'\n",
    "    #URL = 'https://colorado.rstudio.com/rsc/5ef7eb7b-df8b-4ef4-9e59-f39afbe5863e/stocks/' + ticker + '/history'\n",
    "    r = requests.get(URL)\n",
    "    df = pd.DataFrame(r.json())\n",
    "    return df\n",
    "    #return(r.json())"
   ]
  },
  {
   "cell_type": "markdown",
   "id": "98c3faff-30e7-43e2-950f-45ce5faf9324",
   "metadata": {},
   "source": [
    "### Grabbing Data from API Endpoint and Graphing"
   ]
  },
  {
   "cell_type": "code",
   "execution_count": 6,
   "id": "12446d49-b645-47c1-88f8-23bcd52a64d3",
   "metadata": {},
   "outputs": [],
   "source": [
    "ticker = 'AAPL'"
   ]
  },
  {
   "cell_type": "code",
   "execution_count": 7,
   "id": "4dc63859-776b-447e-81a1-c1fd57e69257",
   "metadata": {},
   "outputs": [
    {
     "data": {
      "text/html": [
       "<div>\n",
       "<style scoped>\n",
       "    .dataframe tbody tr th:only-of-type {\n",
       "        vertical-align: middle;\n",
       "    }\n",
       "\n",
       "    .dataframe tbody tr th {\n",
       "        vertical-align: top;\n",
       "    }\n",
       "\n",
       "    .dataframe thead th {\n",
       "        text-align: right;\n",
       "    }\n",
       "</style>\n",
       "<table border=\"1\" class=\"dataframe\">\n",
       "  <thead>\n",
       "    <tr style=\"text-align: right;\">\n",
       "      <th></th>\n",
       "      <th>date</th>\n",
       "      <th>high</th>\n",
       "      <th>low</th>\n",
       "      <th>close</th>\n",
       "      <th>volume</th>\n",
       "      <th>adjusted</th>\n",
       "    </tr>\n",
       "  </thead>\n",
       "  <tbody>\n",
       "    <tr>\n",
       "      <th>0</th>\n",
       "      <td>2010-01-04</td>\n",
       "      <td>30.642857</td>\n",
       "      <td>30.340000</td>\n",
       "      <td>30.572857</td>\n",
       "      <td>123432400</td>\n",
       "      <td>20.473503</td>\n",
       "    </tr>\n",
       "    <tr>\n",
       "      <th>1</th>\n",
       "      <td>2010-01-05</td>\n",
       "      <td>30.798571</td>\n",
       "      <td>30.464285</td>\n",
       "      <td>30.625713</td>\n",
       "      <td>150476200</td>\n",
       "      <td>20.508902</td>\n",
       "    </tr>\n",
       "    <tr>\n",
       "      <th>2</th>\n",
       "      <td>2010-01-06</td>\n",
       "      <td>30.747143</td>\n",
       "      <td>30.107143</td>\n",
       "      <td>30.138571</td>\n",
       "      <td>138040000</td>\n",
       "      <td>20.182680</td>\n",
       "    </tr>\n",
       "    <tr>\n",
       "      <th>3</th>\n",
       "      <td>2010-01-07</td>\n",
       "      <td>30.285715</td>\n",
       "      <td>29.864286</td>\n",
       "      <td>30.082857</td>\n",
       "      <td>119282800</td>\n",
       "      <td>20.145369</td>\n",
       "    </tr>\n",
       "    <tr>\n",
       "      <th>4</th>\n",
       "      <td>2010-01-08</td>\n",
       "      <td>30.285715</td>\n",
       "      <td>29.865715</td>\n",
       "      <td>30.282858</td>\n",
       "      <td>111902700</td>\n",
       "      <td>20.279305</td>\n",
       "    </tr>\n",
       "    <tr>\n",
       "      <th>...</th>\n",
       "      <td>...</td>\n",
       "      <td>...</td>\n",
       "      <td>...</td>\n",
       "      <td>...</td>\n",
       "      <td>...</td>\n",
       "      <td>...</td>\n",
       "    </tr>\n",
       "    <tr>\n",
       "      <th>2224</th>\n",
       "      <td>2018-11-01</td>\n",
       "      <td>222.360001</td>\n",
       "      <td>216.809998</td>\n",
       "      <td>222.220001</td>\n",
       "      <td>58323200</td>\n",
       "      <td>221.447327</td>\n",
       "    </tr>\n",
       "    <tr>\n",
       "      <th>2225</th>\n",
       "      <td>2018-11-02</td>\n",
       "      <td>213.649994</td>\n",
       "      <td>205.429993</td>\n",
       "      <td>207.479996</td>\n",
       "      <td>91328700</td>\n",
       "      <td>206.758575</td>\n",
       "    </tr>\n",
       "    <tr>\n",
       "      <th>2226</th>\n",
       "      <td>2018-11-05</td>\n",
       "      <td>204.389999</td>\n",
       "      <td>198.169998</td>\n",
       "      <td>201.589996</td>\n",
       "      <td>66163700</td>\n",
       "      <td>200.889053</td>\n",
       "    </tr>\n",
       "    <tr>\n",
       "      <th>2227</th>\n",
       "      <td>2018-11-06</td>\n",
       "      <td>204.720001</td>\n",
       "      <td>201.690002</td>\n",
       "      <td>203.770004</td>\n",
       "      <td>31882900</td>\n",
       "      <td>203.061493</td>\n",
       "    </tr>\n",
       "    <tr>\n",
       "      <th>2228</th>\n",
       "      <td>2018-11-07</td>\n",
       "      <td>210.059998</td>\n",
       "      <td>204.130005</td>\n",
       "      <td>209.949997</td>\n",
       "      <td>33355400</td>\n",
       "      <td>209.219986</td>\n",
       "    </tr>\n",
       "  </tbody>\n",
       "</table>\n",
       "<p>2229 rows × 6 columns</p>\n",
       "</div>"
      ],
      "text/plain": [
       "            date        high         low       close     volume    adjusted\n",
       "0     2010-01-04   30.642857   30.340000   30.572857  123432400   20.473503\n",
       "1     2010-01-05   30.798571   30.464285   30.625713  150476200   20.508902\n",
       "2     2010-01-06   30.747143   30.107143   30.138571  138040000   20.182680\n",
       "3     2010-01-07   30.285715   29.864286   30.082857  119282800   20.145369\n",
       "4     2010-01-08   30.285715   29.865715   30.282858  111902700   20.279305\n",
       "...          ...         ...         ...         ...        ...         ...\n",
       "2224  2018-11-01  222.360001  216.809998  222.220001   58323200  221.447327\n",
       "2225  2018-11-02  213.649994  205.429993  207.479996   91328700  206.758575\n",
       "2226  2018-11-05  204.389999  198.169998  201.589996   66163700  200.889053\n",
       "2227  2018-11-06  204.720001  201.690002  203.770004   31882900  203.061493\n",
       "2228  2018-11-07  210.059998  204.130005  209.949997   33355400  209.219986\n",
       "\n",
       "[2229 rows x 6 columns]"
      ]
     },
     "execution_count": 7,
     "metadata": {},
     "output_type": "execute_result"
    }
   ],
   "source": [
    "df = get_history(ticker)\n",
    "df"
   ]
  },
  {
   "cell_type": "code",
   "execution_count": 8,
   "id": "e0c3fafa-9341-461b-a817-917193e735be",
   "metadata": {},
   "outputs": [
    {
     "data": {
      "image/png": "[encoded data removed]",
      "text/plain": [
       "<Figure size 900x400 with 1 Axes>"
      ]
     },
     "metadata": {},
     "output_type": "display_data"
    }
   ],
   "source": [
    "ax = df.\\\n",
    "        plot(\n",
    "            x = 'date',\n",
    "            y = 'close',\n",
    "            title = ticker,\n",
    "            grid = True,\n",
    "            style = 'k',\n",
    "            alpha = 0.75,\n",
    "            figsize = (9, 4),\n",
    "        );\n",
    "ax.set_xlabel('Trade Date');\n",
    "ax.set_ylabel('Close Price');"
   ]
  },
  {
   "cell_type": "markdown",
   "id": "524de362-117a-4b6a-8240-04a1aa1fa43b",
   "metadata": {},
   "source": [
    "### OLD CODE"
   ]
  },
  {
   "cell_type": "code",
   "execution_count": null,
   "id": "bdf7e546-cc31-496a-8bf0-b92b4f5aa580",
   "metadata": {},
   "outputs": [],
   "source": [
    "# r = requests.get('https://colorado.rstudio.com/rsc/pritam-api/stocks/GOOG/history')\n",
    "# df = pd.DataFrame(r.json())\n",
    "# df"
   ]
  },
  {
   "cell_type": "code",
   "execution_count": null,
   "id": "5fdefd17-8f0f-48f9-8402-adaf1c2c73b1",
   "metadata": {},
   "outputs": [],
   "source": [
    "# def get_stocks():\n",
    "#     r = requests.get('https://colorado.rstudio.com/rsc/pritam-api/stocks')\n",
    "#     df = pd.DataFrame(r.json())\n",
    "#     return df"
   ]
  },
  {
   "cell_type": "code",
   "execution_count": null,
   "id": "b9e2bf5c-ce5f-4d68-9f86-47fe14445a6d",
   "metadata": {},
   "outputs": [],
   "source": [
    "# get_stocks()"
   ]
  }
 ],
 "metadata": {
  "kernelspec": {
   "display_name": "Python 3.10.4",
   "language": "python",
   "name": "py3.10.4"
  },
  "language_info": {
   "codemirror_mode": {
    "name": "ipython",
    "version": 3
   },
   "file_extension": ".py",
   "mimetype": "text/x-python",
   "name": "python",
   "nbconvert_exporter": "python",
   "pygments_lexer": "ipython3",
   "version": "3.10.4"
  }
 },
 "nbformat": 4,
 "nbformat_minor": 5
}
